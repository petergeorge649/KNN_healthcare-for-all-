{
 "cells": [
  {
   "cell_type": "markdown",
   "metadata": {},
   "source": [
    "## Machine learning models \n",
    "\n",
    "- Logistic Regression \n",
    "\n",
    "- Linear Regression \n",
    "\n",
    "- KNN (Nearest Neighbours) \n",
    "\n",
    "\n",
    "You pick the model (s) depending on the problem \n",
    "\n"
   ]
  },
  {
   "cell_type": "markdown",
   "metadata": {
    "id": "oh_NNSdga0Tt"
   },
   "source": [
    "## Loading libraries"
   ]
  },
  {
   "cell_type": "code",
   "execution_count": 1,
   "metadata": {},
   "outputs": [],
   "source": [
    "import pandas as pd\n",
    "import numpy as np\n",
    "import datetime\n",
    "import warnings\n",
    "warnings.filterwarnings('ignore')\n",
    "warnings.filterwarnings(\"ignore\", message=\"numpy.ufunc size changed\")\n",
    "import matplotlib.pyplot as plt\n",
    "import seaborn as sns\n",
    "%matplotlib inline\n",
    "pd.set_option('display.max_columns', None)"
   ]
  },
  {
   "cell_type": "markdown",
   "metadata": {},
   "source": [
    "### Applying K means (unsupervised ML ) to some basic data to explain the concept\n",
    "\n",
    "#### Code along \n",
    "\n",
    "kudos to geeks for geeks tutorial from AlindGupta - the ironhack materials are a little heavy going so we are reusing this resource to run through a visual explanation of what KNN/Kmeans is about, together in class \n"
   ]
  },
  {
   "cell_type": "code",
   "execution_count": 2,
   "metadata": {},
   "outputs": [],
   "source": [
    "# import additional libraries\n",
    "from sklearn.cluster import KMeans \n",
    "from sklearn import metrics \n",
    "from scipy.spatial.distance import cdist\n"
   ]
  },
  {
   "cell_type": "code",
   "execution_count": 3,
   "metadata": {},
   "outputs": [],
   "source": [
    "# create data array\n",
    "x1 = np.array([3, 1, 1, 2, 1, 6, 6, 6, 5, 6, 7, 8, 9, 8, 9, 9, 8])\n",
    "x2 = np.array([5, 4, 5, 6, 5, 8, 6, 7, 6, 7, 1, 2, 1, 2, 3, 2, 3])\n",
    "X = np.array(list(zip(x1, x2))).reshape(len(x1), 2)\n"
   ]
  },
  {
   "cell_type": "code",
   "execution_count": 4,
   "metadata": {},
   "outputs": [
    {
     "data": {
      "image/png": "[encoded data removed]",
      "text/plain": [
       "<Figure size 432x288 with 1 Axes>"
      ]
     },
     "metadata": {
      "needs_background": "light"
     },
     "output_type": "display_data"
    }
   ],
   "source": [
    "# visualise the data \n",
    "\n",
    "plt.scatter(x1,x2)\n",
    "plt.show()\n",
    "\n"
   ]
  },
  {
   "cell_type": "markdown",
   "metadata": {},
   "source": [
    "### Explanation \n",
    "\n",
    "visualising the data tells us that 3 clusters looks right but visualising alone is not the full story \n",
    "\n",
    "- distortion = the avg of the squared distances from the cluster centres of the respective cluster\n",
    "- inertia = sum of squared distance of samples to their closest cluster centre"
   ]
  },
  {
   "cell_type": "code",
   "execution_count": 5,
   "metadata": {},
   "outputs": [],
   "source": [
    "# build the cluster model , calculate distortion and inertia \n",
    "distortions = []\n",
    "inertias = []\n",
    "mapping1 = {}\n",
    "mapping2 = {}\n",
    "K = range(1, 18)# k between 1 and 9 \n",
    " \n",
    "for k in K:\n",
    "    # Building and fitting the model\n",
    "    kmeanModel = KMeans(n_clusters=k).fit(X)\n",
    "    kmeanModel.fit(X)\n",
    " \n",
    "    distortions.append(sum(np.min(cdist(X, kmeanModel.cluster_centers_,\n",
    "                                        'euclidean'), axis=1)) / X.shape[0])\n",
    "    inertias.append(kmeanModel.inertia_)\n",
    " \n",
    "    mapping1[k] = sum(np.min(cdist(X, kmeanModel.cluster_centers_,\n",
    "                                   'euclidean'), axis=1)) / X.shape[0]\n",
    "    mapping2[k] = kmeanModel.inertia_\n"
   ]
  },
  {
   "cell_type": "code",
   "execution_count": 6,
   "metadata": {},
   "outputs": [
    {
     "name": "stdout",
     "output_type": "stream",
     "text": [
      "1:3.4577032384495707\n",
      "2:1.7687413573405673\n",
      "3:0.8819889697423957\n",
      "4:0.7587138847606585\n",
      "5:0.6635212812400347\n",
      "6:0.5808803063754726\n",
      "7:0.5274410771884641\n",
      "8:0.42618267462691206\n",
      "9:0.3333333333333333\n",
      "10:0.2549019607843137\n",
      "11:0.196078431372549\n",
      "12:0.11764705882352941\n",
      "13:0.058823529411764705\n",
      "14:0.0\n",
      "15:0.0\n",
      "16:0.0\n",
      "17:0.0\n"
     ]
    }
   ],
   "source": [
    "# tabulate results - distortion\n",
    "\n",
    "for key, val in mapping1.items():\n",
    "    print(f'{key}:{val}')"
   ]
  },
  {
   "cell_type": "code",
   "execution_count": 7,
   "metadata": {},
   "outputs": [
    {
     "data": {
      "text/plain": [
       "[<matplotlib.lines.Line2D at 0x7fd88ce7fa90>]"
      ]
     },
     "execution_count": 7,
     "metadata": {},
     "output_type": "execute_result"
    },
    {
     "data": {
      "image/png": "[encoded data removed]",
      "text/plain": [
       "<Figure size 432x288 with 1 Axes>"
      ]
     },
     "metadata": {
      "needs_background": "light"
     },
     "output_type": "display_data"
    }
   ],
   "source": [
    "# visualise results - distortion\n",
    "\n",
    "plt.plot(K, distortions, 'bx-')\n",
    "\n",
    "# elbow method - tells us what is the right K to use \n"
   ]
  },
  {
   "cell_type": "code",
   "execution_count": 8,
   "metadata": {},
   "outputs": [
    {
     "name": "stdout",
     "output_type": "stream",
     "text": [
      "1:217.64705882352948\n",
      "2:68.42857142857142\n",
      "3:16.228571428571428\n",
      "4:12.695238095238095\n",
      "5:9.600000000000001\n",
      "6:7.166666666666665\n",
      "7:5.166666666666667\n",
      "8:4.083333333333334\n",
      "9:2.8333333333333335\n",
      "10:2.166666666666667\n",
      "11:1.6666666666666667\n",
      "12:1.0\n",
      "13:0.5\n",
      "14:0.0\n",
      "15:0.0\n",
      "16:0.0\n",
      "17:0.0\n"
     ]
    }
   ],
   "source": [
    "# tabulate results -  inertia\n",
    "for key, val in mapping2.items():\n",
    "    print(f'{key}:{val}')\n"
   ]
  },
  {
   "cell_type": "code",
   "execution_count": 9,
   "metadata": {},
   "outputs": [
    {
     "data": {
      "text/plain": [
       "[<matplotlib.lines.Line2D at 0x7fd88d3ec3d0>]"
      ]
     },
     "execution_count": 9,
     "metadata": {},
     "output_type": "execute_result"
    },
    {
     "data": {
      "image/png": "[encoded data removed]",
      "text/plain": [
       "<Figure size 432x288 with 1 Axes>"
      ]
     },
     "metadata": {
      "needs_background": "light"
     },
     "output_type": "display_data"
    }
   ],
   "source": [
    "# visualise results - inertia\n",
    "\n",
    "plt.plot(K, inertias, 'bx-')"
   ]
  },
  {
   "cell_type": "markdown",
   "metadata": {},
   "source": [
    "K-means is an unsupervised learning algorithm for clustering problems, whereas KNN is a supervised learning algorithm for classification and regression problems \n",
    "\n",
    "Although both involve similar statistical techniques, you can use KNN to predict by learning from past data, to classify similar data points based on shared characteristics\n",
    "\n",
    "You can also use KNN to enhance a logistic or linear regression model (class discussion)\n"
   ]
  },
  {
   "cell_type": "markdown",
   "metadata": {
    "id": "KwEQQELDb6xb"
   },
   "source": [
    "## Loading data"
   ]
  },
  {
   "cell_type": "code",
   "execution_count": 10,
   "metadata": {
    "colab": {
     "base_uri": "https://localhost:8080/",
     "height": 195
    },
    "executionInfo": {
     "elapsed": 734,
     "status": "ok",
     "timestamp": 1603875491273,
     "user": {
      "displayName": "Ignacio Soteras",
      "photoUrl": "",
      "userId": "02050793736257155229"
     },
     "user_tz": -60
    },
    "id": "aWnLG3vH7JRS",
    "outputId": "9516f2ab-069d-4e05-8bc2-25cf249cdc83"
   },
   "outputs": [
    {
     "data": {
      "text/html": [
       "<div>\n",
       "<style scoped>\n",
       "    .dataframe tbody tr th:only-of-type {\n",
       "        vertical-align: middle;\n",
       "    }\n",
       "\n",
       "    .dataframe tbody tr th {\n",
       "        vertical-align: top;\n",
       "    }\n",
       "\n",
       "    .dataframe thead th {\n",
       "        text-align: right;\n",
       "    }\n",
       "</style>\n",
       "<table border=\"1\" class=\"dataframe\">\n",
       "  <thead>\n",
       "    <tr style=\"text-align: right;\">\n",
       "      <th></th>\n",
       "      <th>HV1</th>\n",
       "      <th>IC1</th>\n",
       "      <th>IC5</th>\n",
       "      <th>CARDPROM</th>\n",
       "      <th>NUMPRM12</th>\n",
       "      <th>NGIFTALL</th>\n",
       "      <th>TIMELAG</th>\n",
       "      <th>year</th>\n",
       "      <th>GENDER</th>\n",
       "      <th>HOMEOWNR</th>\n",
       "      <th>DOMAIN_letters</th>\n",
       "      <th>RFA_frequency</th>\n",
       "      <th>RFA_monetary</th>\n",
       "      <th>AVGGIFT</th>\n",
       "    </tr>\n",
       "  </thead>\n",
       "  <tbody>\n",
       "    <tr>\n",
       "      <th>0</th>\n",
       "      <td>479</td>\n",
       "      <td>307</td>\n",
       "      <td>12883</td>\n",
       "      <td>27</td>\n",
       "      <td>14</td>\n",
       "      <td>31</td>\n",
       "      <td>4.0</td>\n",
       "      <td>37.000000</td>\n",
       "      <td>F</td>\n",
       "      <td>other</td>\n",
       "      <td>T</td>\n",
       "      <td>4</td>\n",
       "      <td>E</td>\n",
       "      <td>7.741935</td>\n",
       "    </tr>\n",
       "    <tr>\n",
       "      <th>1</th>\n",
       "      <td>5468</td>\n",
       "      <td>1088</td>\n",
       "      <td>36175</td>\n",
       "      <td>12</td>\n",
       "      <td>13</td>\n",
       "      <td>3</td>\n",
       "      <td>18.0</td>\n",
       "      <td>52.000000</td>\n",
       "      <td>M</td>\n",
       "      <td>H</td>\n",
       "      <td>S</td>\n",
       "      <td>2</td>\n",
       "      <td>G</td>\n",
       "      <td>15.666667</td>\n",
       "    </tr>\n",
       "    <tr>\n",
       "      <th>2</th>\n",
       "      <td>497</td>\n",
       "      <td>251</td>\n",
       "      <td>11576</td>\n",
       "      <td>26</td>\n",
       "      <td>14</td>\n",
       "      <td>27</td>\n",
       "      <td>12.0</td>\n",
       "      <td>37.570799</td>\n",
       "      <td>M</td>\n",
       "      <td>U</td>\n",
       "      <td>R</td>\n",
       "      <td>4</td>\n",
       "      <td>E</td>\n",
       "      <td>7.481481</td>\n",
       "    </tr>\n",
       "    <tr>\n",
       "      <th>3</th>\n",
       "      <td>1000</td>\n",
       "      <td>386</td>\n",
       "      <td>15130</td>\n",
       "      <td>27</td>\n",
       "      <td>14</td>\n",
       "      <td>16</td>\n",
       "      <td>9.0</td>\n",
       "      <td>28.000000</td>\n",
       "      <td>F</td>\n",
       "      <td>U</td>\n",
       "      <td>R</td>\n",
       "      <td>4</td>\n",
       "      <td>E</td>\n",
       "      <td>6.812500</td>\n",
       "    </tr>\n",
       "    <tr>\n",
       "      <th>4</th>\n",
       "      <td>576</td>\n",
       "      <td>240</td>\n",
       "      <td>9836</td>\n",
       "      <td>43</td>\n",
       "      <td>25</td>\n",
       "      <td>37</td>\n",
       "      <td>14.0</td>\n",
       "      <td>20.000000</td>\n",
       "      <td>F</td>\n",
       "      <td>H</td>\n",
       "      <td>S</td>\n",
       "      <td>2</td>\n",
       "      <td>F</td>\n",
       "      <td>6.864865</td>\n",
       "    </tr>\n",
       "  </tbody>\n",
       "</table>\n",
       "</div>"
      ],
      "text/plain": [
       "    HV1   IC1    IC5  CARDPROM  NUMPRM12  NGIFTALL  TIMELAG       year GENDER  \\\n",
       "0   479   307  12883        27        14        31      4.0  37.000000      F   \n",
       "1  5468  1088  36175        12        13         3     18.0  52.000000      M   \n",
       "2   497   251  11576        26        14        27     12.0  37.570799      M   \n",
       "3  1000   386  15130        27        14        16      9.0  28.000000      F   \n",
       "4   576   240   9836        43        25        37     14.0  20.000000      F   \n",
       "\n",
       "  HOMEOWNR DOMAIN_letters  RFA_frequency RFA_monetary    AVGGIFT  \n",
       "0    other              T              4            E   7.741935  \n",
       "1        H              S              2            G  15.666667  \n",
       "2        U              R              4            E   7.481481  \n",
       "3        U              R              4            E   6.812500  \n",
       "4        H              S              2            F   6.864865  "
      ]
     },
     "execution_count": 10,
     "metadata": {},
     "output_type": "execute_result"
    }
   ],
   "source": [
    "#sticking with the healthcare for all dataset \n",
    "data = pd.read_csv('lesson_4.05_data.csv') # this file is in files_for_lesson_and_activities folder\n",
    "data.head()"
   ]
  },
  {
   "cell_type": "code",
   "execution_count": 11,
   "metadata": {
    "colab": {
     "base_uri": "https://localhost:8080/",
     "height": 370
    },
    "executionInfo": {
     "elapsed": 735,
     "status": "ok",
     "timestamp": 1603875513231,
     "user": {
      "displayName": "Ignacio Soteras",
      "photoUrl": "",
      "userId": "02050793736257155229"
     },
     "user_tz": -60
    },
    "id": "drj9VcoqcYbk",
    "outputId": "286f36fc-de6f-4272-a2ca-857a3b75775f"
   },
   "outputs": [
    {
     "name": "stdout",
     "output_type": "stream",
     "text": [
      "<class 'pandas.core.frame.DataFrame'>\n",
      "RangeIndex: 88393 entries, 0 to 88392\n",
      "Data columns (total 14 columns):\n",
      " #   Column          Non-Null Count  Dtype  \n",
      "---  ------          --------------  -----  \n",
      " 0   HV1             88393 non-null  int64  \n",
      " 1   IC1             88393 non-null  int64  \n",
      " 2   IC5             88393 non-null  int64  \n",
      " 3   CARDPROM        88393 non-null  int64  \n",
      " 4   NUMPRM12        88393 non-null  int64  \n",
      " 5   NGIFTALL        88393 non-null  int64  \n",
      " 6   TIMELAG         88393 non-null  float64\n",
      " 7   year            88393 non-null  float64\n",
      " 8   GENDER          88393 non-null  object \n",
      " 9   HOMEOWNR        88393 non-null  object \n",
      " 10  DOMAIN_letters  88393 non-null  object \n",
      " 11  RFA_frequency   88393 non-null  int64  \n",
      " 12  RFA_monetary    88393 non-null  object \n",
      " 13  AVGGIFT         88393 non-null  float64\n",
      "dtypes: float64(3), int64(7), object(4)\n",
      "memory usage: 9.4+ MB\n"
     ]
    }
   ],
   "source": [
    "data.info()"
   ]
  },
  {
   "cell_type": "markdown",
   "metadata": {
    "id": "rKoUsHvKb-Jj"
   },
   "source": [
    "## Splitting the dataset between the categorical and numerical columns"
   ]
  },
  {
   "cell_type": "code",
   "execution_count": 12,
   "metadata": {
    "colab": {
     "base_uri": "https://localhost:8080/",
     "height": 854
    },
    "executionInfo": {
     "elapsed": 742,
     "status": "ok",
     "timestamp": 1603875582490,
     "user": {
      "displayName": "Ignacio Soteras",
      "photoUrl": "",
      "userId": "02050793736257155229"
     },
     "user_tz": -60
    },
    "id": "-e8r0HlLcIuy",
    "outputId": "a76299ee-2389-49d1-cd00-a7046be085f6"
   },
   "outputs": [
    {
     "name": "stdout",
     "output_type": "stream",
     "text": [
      "Dataframe of numerical columns: \n",
      "\n"
     ]
    },
    {
     "data": {
      "text/html": [
       "<div>\n",
       "<style scoped>\n",
       "    .dataframe tbody tr th:only-of-type {\n",
       "        vertical-align: middle;\n",
       "    }\n",
       "\n",
       "    .dataframe tbody tr th {\n",
       "        vertical-align: top;\n",
       "    }\n",
       "\n",
       "    .dataframe thead th {\n",
       "        text-align: right;\n",
       "    }\n",
       "</style>\n",
       "<table border=\"1\" class=\"dataframe\">\n",
       "  <thead>\n",
       "    <tr style=\"text-align: right;\">\n",
       "      <th></th>\n",
       "      <th>HV1</th>\n",
       "      <th>IC1</th>\n",
       "      <th>IC5</th>\n",
       "      <th>CARDPROM</th>\n",
       "      <th>NUMPRM12</th>\n",
       "      <th>NGIFTALL</th>\n",
       "      <th>TIMELAG</th>\n",
       "      <th>year</th>\n",
       "      <th>RFA_frequency</th>\n",
       "      <th>AVGGIFT</th>\n",
       "    </tr>\n",
       "  </thead>\n",
       "  <tbody>\n",
       "    <tr>\n",
       "      <th>0</th>\n",
       "      <td>479</td>\n",
       "      <td>307</td>\n",
       "      <td>12883</td>\n",
       "      <td>27</td>\n",
       "      <td>14</td>\n",
       "      <td>31</td>\n",
       "      <td>4.000000</td>\n",
       "      <td>37.000000</td>\n",
       "      <td>4</td>\n",
       "      <td>7.741935</td>\n",
       "    </tr>\n",
       "    <tr>\n",
       "      <th>1</th>\n",
       "      <td>5468</td>\n",
       "      <td>1088</td>\n",
       "      <td>36175</td>\n",
       "      <td>12</td>\n",
       "      <td>13</td>\n",
       "      <td>3</td>\n",
       "      <td>18.000000</td>\n",
       "      <td>52.000000</td>\n",
       "      <td>2</td>\n",
       "      <td>15.666667</td>\n",
       "    </tr>\n",
       "    <tr>\n",
       "      <th>2</th>\n",
       "      <td>497</td>\n",
       "      <td>251</td>\n",
       "      <td>11576</td>\n",
       "      <td>26</td>\n",
       "      <td>14</td>\n",
       "      <td>27</td>\n",
       "      <td>12.000000</td>\n",
       "      <td>37.570799</td>\n",
       "      <td>4</td>\n",
       "      <td>7.481481</td>\n",
       "    </tr>\n",
       "    <tr>\n",
       "      <th>3</th>\n",
       "      <td>1000</td>\n",
       "      <td>386</td>\n",
       "      <td>15130</td>\n",
       "      <td>27</td>\n",
       "      <td>14</td>\n",
       "      <td>16</td>\n",
       "      <td>9.000000</td>\n",
       "      <td>28.000000</td>\n",
       "      <td>4</td>\n",
       "      <td>6.812500</td>\n",
       "    </tr>\n",
       "    <tr>\n",
       "      <th>4</th>\n",
       "      <td>576</td>\n",
       "      <td>240</td>\n",
       "      <td>9836</td>\n",
       "      <td>43</td>\n",
       "      <td>25</td>\n",
       "      <td>37</td>\n",
       "      <td>14.000000</td>\n",
       "      <td>20.000000</td>\n",
       "      <td>2</td>\n",
       "      <td>6.864865</td>\n",
       "    </tr>\n",
       "    <tr>\n",
       "      <th>...</th>\n",
       "      <td>...</td>\n",
       "      <td>...</td>\n",
       "      <td>...</td>\n",
       "      <td>...</td>\n",
       "      <td>...</td>\n",
       "      <td>...</td>\n",
       "      <td>...</td>\n",
       "      <td>...</td>\n",
       "      <td>...</td>\n",
       "      <td>...</td>\n",
       "    </tr>\n",
       "    <tr>\n",
       "      <th>88388</th>\n",
       "      <td>733</td>\n",
       "      <td>285</td>\n",
       "      <td>11390</td>\n",
       "      <td>23</td>\n",
       "      <td>12</td>\n",
       "      <td>24</td>\n",
       "      <td>3.000000</td>\n",
       "      <td>48.000000</td>\n",
       "      <td>4</td>\n",
       "      <td>3.375000</td>\n",
       "    </tr>\n",
       "    <tr>\n",
       "      <th>88389</th>\n",
       "      <td>988</td>\n",
       "      <td>433</td>\n",
       "      <td>18807</td>\n",
       "      <td>6</td>\n",
       "      <td>12</td>\n",
       "      <td>1</td>\n",
       "      <td>8.117886</td>\n",
       "      <td>37.570799</td>\n",
       "      <td>1</td>\n",
       "      <td>25.000000</td>\n",
       "    </tr>\n",
       "    <tr>\n",
       "      <th>88390</th>\n",
       "      <td>1679</td>\n",
       "      <td>806</td>\n",
       "      <td>26538</td>\n",
       "      <td>4</td>\n",
       "      <td>8</td>\n",
       "      <td>1</td>\n",
       "      <td>8.117886</td>\n",
       "      <td>50.000000</td>\n",
       "      <td>1</td>\n",
       "      <td>20.000000</td>\n",
       "    </tr>\n",
       "    <tr>\n",
       "      <th>88391</th>\n",
       "      <td>376</td>\n",
       "      <td>263</td>\n",
       "      <td>12178</td>\n",
       "      <td>14</td>\n",
       "      <td>17</td>\n",
       "      <td>7</td>\n",
       "      <td>3.000000</td>\n",
       "      <td>38.000000</td>\n",
       "      <td>3</td>\n",
       "      <td>8.285714</td>\n",
       "    </tr>\n",
       "    <tr>\n",
       "      <th>88392</th>\n",
       "      <td>938</td>\n",
       "      <td>451</td>\n",
       "      <td>16699</td>\n",
       "      <td>32</td>\n",
       "      <td>35</td>\n",
       "      <td>39</td>\n",
       "      <td>6.000000</td>\n",
       "      <td>18.000000</td>\n",
       "      <td>1</td>\n",
       "      <td>96.794872</td>\n",
       "    </tr>\n",
       "  </tbody>\n",
       "</table>\n",
       "<p>88393 rows × 10 columns</p>\n",
       "</div>"
      ],
      "text/plain": [
       "        HV1   IC1    IC5  CARDPROM  NUMPRM12  NGIFTALL    TIMELAG       year  \\\n",
       "0       479   307  12883        27        14        31   4.000000  37.000000   \n",
       "1      5468  1088  36175        12        13         3  18.000000  52.000000   \n",
       "2       497   251  11576        26        14        27  12.000000  37.570799   \n",
       "3      1000   386  15130        27        14        16   9.000000  28.000000   \n",
       "4       576   240   9836        43        25        37  14.000000  20.000000   \n",
       "...     ...   ...    ...       ...       ...       ...        ...        ...   \n",
       "88388   733   285  11390        23        12        24   3.000000  48.000000   \n",
       "88389   988   433  18807         6        12         1   8.117886  37.570799   \n",
       "88390  1679   806  26538         4         8         1   8.117886  50.000000   \n",
       "88391   376   263  12178        14        17         7   3.000000  38.000000   \n",
       "88392   938   451  16699        32        35        39   6.000000  18.000000   \n",
       "\n",
       "       RFA_frequency    AVGGIFT  \n",
       "0                  4   7.741935  \n",
       "1                  2  15.666667  \n",
       "2                  4   7.481481  \n",
       "3                  4   6.812500  \n",
       "4                  2   6.864865  \n",
       "...              ...        ...  \n",
       "88388              4   3.375000  \n",
       "88389              1  25.000000  \n",
       "88390              1  20.000000  \n",
       "88391              3   8.285714  \n",
       "88392              1  96.794872  \n",
       "\n",
       "[88393 rows x 10 columns]"
      ]
     },
     "metadata": {},
     "output_type": "display_data"
    },
    {
     "name": "stdout",
     "output_type": "stream",
     "text": [
      "Dataframe of categorical columns: \n",
      "\n"
     ]
    },
    {
     "data": {
      "text/html": [
       "<div>\n",
       "<style scoped>\n",
       "    .dataframe tbody tr th:only-of-type {\n",
       "        vertical-align: middle;\n",
       "    }\n",
       "\n",
       "    .dataframe tbody tr th {\n",
       "        vertical-align: top;\n",
       "    }\n",
       "\n",
       "    .dataframe thead th {\n",
       "        text-align: right;\n",
       "    }\n",
       "</style>\n",
       "<table border=\"1\" class=\"dataframe\">\n",
       "  <thead>\n",
       "    <tr style=\"text-align: right;\">\n",
       "      <th></th>\n",
       "      <th>GENDER</th>\n",
       "      <th>HOMEOWNR</th>\n",
       "      <th>DOMAIN_letters</th>\n",
       "      <th>RFA_monetary</th>\n",
       "    </tr>\n",
       "  </thead>\n",
       "  <tbody>\n",
       "    <tr>\n",
       "      <th>0</th>\n",
       "      <td>F</td>\n",
       "      <td>other</td>\n",
       "      <td>T</td>\n",
       "      <td>E</td>\n",
       "    </tr>\n",
       "    <tr>\n",
       "      <th>1</th>\n",
       "      <td>M</td>\n",
       "      <td>H</td>\n",
       "      <td>S</td>\n",
       "      <td>G</td>\n",
       "    </tr>\n",
       "    <tr>\n",
       "      <th>2</th>\n",
       "      <td>M</td>\n",
       "      <td>U</td>\n",
       "      <td>R</td>\n",
       "      <td>E</td>\n",
       "    </tr>\n",
       "    <tr>\n",
       "      <th>3</th>\n",
       "      <td>F</td>\n",
       "      <td>U</td>\n",
       "      <td>R</td>\n",
       "      <td>E</td>\n",
       "    </tr>\n",
       "    <tr>\n",
       "      <th>4</th>\n",
       "      <td>F</td>\n",
       "      <td>H</td>\n",
       "      <td>S</td>\n",
       "      <td>F</td>\n",
       "    </tr>\n",
       "    <tr>\n",
       "      <th>...</th>\n",
       "      <td>...</td>\n",
       "      <td>...</td>\n",
       "      <td>...</td>\n",
       "      <td>...</td>\n",
       "    </tr>\n",
       "    <tr>\n",
       "      <th>88388</th>\n",
       "      <td>F</td>\n",
       "      <td>H</td>\n",
       "      <td>S</td>\n",
       "      <td>D</td>\n",
       "    </tr>\n",
       "    <tr>\n",
       "      <th>88389</th>\n",
       "      <td>M</td>\n",
       "      <td>other</td>\n",
       "      <td>C</td>\n",
       "      <td>G</td>\n",
       "    </tr>\n",
       "    <tr>\n",
       "      <th>88390</th>\n",
       "      <td>M</td>\n",
       "      <td>H</td>\n",
       "      <td>C</td>\n",
       "      <td>F</td>\n",
       "    </tr>\n",
       "    <tr>\n",
       "      <th>88391</th>\n",
       "      <td>M</td>\n",
       "      <td>other</td>\n",
       "      <td>C</td>\n",
       "      <td>E</td>\n",
       "    </tr>\n",
       "    <tr>\n",
       "      <th>88392</th>\n",
       "      <td>F</td>\n",
       "      <td>U</td>\n",
       "      <td>C</td>\n",
       "      <td>G</td>\n",
       "    </tr>\n",
       "  </tbody>\n",
       "</table>\n",
       "<p>88393 rows × 4 columns</p>\n",
       "</div>"
      ],
      "text/plain": [
       "      GENDER HOMEOWNR DOMAIN_letters RFA_monetary\n",
       "0          F    other              T            E\n",
       "1          M        H              S            G\n",
       "2          M        U              R            E\n",
       "3          F        U              R            E\n",
       "4          F        H              S            F\n",
       "...      ...      ...            ...          ...\n",
       "88388      F        H              S            D\n",
       "88389      M    other              C            G\n",
       "88390      M        H              C            F\n",
       "88391      M    other              C            E\n",
       "88392      F        U              C            G\n",
       "\n",
       "[88393 rows x 4 columns]"
      ]
     },
     "metadata": {},
     "output_type": "display_data"
    }
   ],
   "source": [
    "categoricals = data.select_dtypes(np.object)\n",
    "numericals = data.select_dtypes(np.number)\n",
    "\n",
    "\n",
    "print(\"Dataframe of numerical columns: \")\n",
    "print()\n",
    "\n",
    "display(numericals)\n",
    "\n",
    "print(\"Dataframe of categorical columns: \")\n",
    "print()\n",
    "\n",
    "display(categoricals)"
   ]
  },
  {
   "cell_type": "code",
   "execution_count": 13,
   "metadata": {},
   "outputs": [],
   "source": [
    "#Lets apply scaling to the numerical columns except the final column\n",
    "#which will be our y variable, average gift\n",
    "\n",
    "from sklearn.preprocessing import StandardScaler\n",
    "\n",
    "transformer = StandardScaler().fit(numericals.iloc[:,:-1])\n",
    "scaled_numericals = transformer.transform(numericals.iloc[:,:-1])"
   ]
  },
  {
   "cell_type": "markdown",
   "metadata": {
    "id": "3RUfHPrjnV1e"
   },
   "source": [
    "Getting a dataframe with the result from the standard scaler which is a numpy array.\n",
    "\n",
    "As the numpy arrays doesn't have column names, we pick up the column names from the numerical (original) dataframe."
   ]
  },
  {
   "cell_type": "code",
   "execution_count": 14,
   "metadata": {},
   "outputs": [],
   "source": [
    "pdscaled_numericals= pd.DataFrame(scaled_numericals,columns=numericals.columns.tolist()[:-1])"
   ]
  },
  {
   "cell_type": "code",
   "execution_count": 15,
   "metadata": {},
   "outputs": [
    {
     "data": {
      "text/html": [
       "<div>\n",
       "<style scoped>\n",
       "    .dataframe tbody tr th:only-of-type {\n",
       "        vertical-align: middle;\n",
       "    }\n",
       "\n",
       "    .dataframe tbody tr th {\n",
       "        vertical-align: top;\n",
       "    }\n",
       "\n",
       "    .dataframe thead th {\n",
       "        text-align: right;\n",
       "    }\n",
       "</style>\n",
       "<table border=\"1\" class=\"dataframe\">\n",
       "  <thead>\n",
       "    <tr style=\"text-align: right;\">\n",
       "      <th></th>\n",
       "      <th>HV1</th>\n",
       "      <th>IC1</th>\n",
       "      <th>IC5</th>\n",
       "      <th>CARDPROM</th>\n",
       "      <th>NUMPRM12</th>\n",
       "      <th>NGIFTALL</th>\n",
       "      <th>TIMELAG</th>\n",
       "      <th>year</th>\n",
       "      <th>RFA_frequency</th>\n",
       "    </tr>\n",
       "  </thead>\n",
       "  <tbody>\n",
       "    <tr>\n",
       "      <th>0</th>\n",
       "      <td>-0.615805</td>\n",
       "      <td>-0.197546</td>\n",
       "      <td>-0.327329</td>\n",
       "      <td>1.015038</td>\n",
       "      <td>0.287697</td>\n",
       "      <td>2.563947</td>\n",
       "      <td>-0.522139</td>\n",
       "      <td>-4.223845e-02</td>\n",
       "      <td>1.980286</td>\n",
       "    </tr>\n",
       "    <tr>\n",
       "      <th>1</th>\n",
       "      <td>4.724826</td>\n",
       "      <td>4.624687</td>\n",
       "      <td>2.413425</td>\n",
       "      <td>-0.736841</td>\n",
       "      <td>0.057410</td>\n",
       "      <td>-0.762852</td>\n",
       "      <td>1.253030</td>\n",
       "      <td>1.067743e+00</td>\n",
       "      <td>0.102470</td>\n",
       "    </tr>\n",
       "    <tr>\n",
       "      <th>2</th>\n",
       "      <td>-0.596536</td>\n",
       "      <td>-0.543314</td>\n",
       "      <td>-0.481123</td>\n",
       "      <td>0.898246</td>\n",
       "      <td>0.287697</td>\n",
       "      <td>2.088690</td>\n",
       "      <td>0.492244</td>\n",
       "      <td>-1.674335e-11</td>\n",
       "      <td>1.980286</td>\n",
       "    </tr>\n",
       "    <tr>\n",
       "      <th>3</th>\n",
       "      <td>-0.058084</td>\n",
       "      <td>0.290234</td>\n",
       "      <td>-0.062926</td>\n",
       "      <td>1.015038</td>\n",
       "      <td>0.287697</td>\n",
       "      <td>0.781733</td>\n",
       "      <td>0.111850</td>\n",
       "      <td>-7.082272e-01</td>\n",
       "      <td>1.980286</td>\n",
       "    </tr>\n",
       "    <tr>\n",
       "      <th>4</th>\n",
       "      <td>-0.511968</td>\n",
       "      <td>-0.611233</td>\n",
       "      <td>-0.685867</td>\n",
       "      <td>2.883710</td>\n",
       "      <td>2.820857</td>\n",
       "      <td>3.276833</td>\n",
       "      <td>0.745839</td>\n",
       "      <td>-1.300217e+00</td>\n",
       "      <td>0.102470</td>\n",
       "    </tr>\n",
       "  </tbody>\n",
       "</table>\n",
       "</div>"
      ],
      "text/plain": [
       "        HV1       IC1       IC5  CARDPROM  NUMPRM12  NGIFTALL   TIMELAG  \\\n",
       "0 -0.615805 -0.197546 -0.327329  1.015038  0.287697  2.563947 -0.522139   \n",
       "1  4.724826  4.624687  2.413425 -0.736841  0.057410 -0.762852  1.253030   \n",
       "2 -0.596536 -0.543314 -0.481123  0.898246  0.287697  2.088690  0.492244   \n",
       "3 -0.058084  0.290234 -0.062926  1.015038  0.287697  0.781733  0.111850   \n",
       "4 -0.511968 -0.611233 -0.685867  2.883710  2.820857  3.276833  0.745839   \n",
       "\n",
       "           year  RFA_frequency  \n",
       "0 -4.223845e-02       1.980286  \n",
       "1  1.067743e+00       0.102470  \n",
       "2 -1.674335e-11       1.980286  \n",
       "3 -7.082272e-01       1.980286  \n",
       "4 -1.300217e+00       0.102470  "
      ]
     },
     "execution_count": 15,
     "metadata": {},
     "output_type": "execute_result"
    }
   ],
   "source": [
    "pdscaled_numericals.head()"
   ]
  },
  {
   "cell_type": "markdown",
   "metadata": {
    "id": "Vf4lz2XYdr3Q"
   },
   "source": [
    "## Dummifying categorical columns"
   ]
  },
  {
   "cell_type": "code",
   "execution_count": 16,
   "metadata": {
    "colab": {
     "base_uri": "https://localhost:8080/",
     "height": 215
    },
    "executionInfo": {
     "elapsed": 872,
     "status": "ok",
     "timestamp": 1603875629990,
     "user": {
      "displayName": "Ignacio Soteras",
      "photoUrl": "",
      "userId": "02050793736257155229"
     },
     "user_tz": -60
    },
    "id": "qKOdt8CHdzE0",
    "outputId": "74fcbdbc-09c7-4d14-d050-5dc16eca0228"
   },
   "outputs": [
    {
     "data": {
      "text/html": [
       "<div>\n",
       "<style scoped>\n",
       "    .dataframe tbody tr th:only-of-type {\n",
       "        vertical-align: middle;\n",
       "    }\n",
       "\n",
       "    .dataframe tbody tr th {\n",
       "        vertical-align: top;\n",
       "    }\n",
       "\n",
       "    .dataframe thead th {\n",
       "        text-align: right;\n",
       "    }\n",
       "</style>\n",
       "<table border=\"1\" class=\"dataframe\">\n",
       "  <thead>\n",
       "    <tr style=\"text-align: right;\">\n",
       "      <th></th>\n",
       "      <th>GENDER_M</th>\n",
       "      <th>GENDER_other</th>\n",
       "      <th>HOMEOWNR_U</th>\n",
       "      <th>HOMEOWNR_other</th>\n",
       "      <th>DOMAIN_letters_R</th>\n",
       "      <th>DOMAIN_letters_S</th>\n",
       "      <th>DOMAIN_letters_T</th>\n",
       "      <th>DOMAIN_letters_U</th>\n",
       "      <th>RFA_monetary_E</th>\n",
       "      <th>RFA_monetary_F</th>\n",
       "      <th>RFA_monetary_G</th>\n",
       "    </tr>\n",
       "  </thead>\n",
       "  <tbody>\n",
       "    <tr>\n",
       "      <th>0</th>\n",
       "      <td>0</td>\n",
       "      <td>0</td>\n",
       "      <td>0</td>\n",
       "      <td>1</td>\n",
       "      <td>0</td>\n",
       "      <td>0</td>\n",
       "      <td>1</td>\n",
       "      <td>0</td>\n",
       "      <td>1</td>\n",
       "      <td>0</td>\n",
       "      <td>0</td>\n",
       "    </tr>\n",
       "    <tr>\n",
       "      <th>1</th>\n",
       "      <td>1</td>\n",
       "      <td>0</td>\n",
       "      <td>0</td>\n",
       "      <td>0</td>\n",
       "      <td>0</td>\n",
       "      <td>1</td>\n",
       "      <td>0</td>\n",
       "      <td>0</td>\n",
       "      <td>0</td>\n",
       "      <td>0</td>\n",
       "      <td>1</td>\n",
       "    </tr>\n",
       "    <tr>\n",
       "      <th>2</th>\n",
       "      <td>1</td>\n",
       "      <td>0</td>\n",
       "      <td>1</td>\n",
       "      <td>0</td>\n",
       "      <td>1</td>\n",
       "      <td>0</td>\n",
       "      <td>0</td>\n",
       "      <td>0</td>\n",
       "      <td>1</td>\n",
       "      <td>0</td>\n",
       "      <td>0</td>\n",
       "    </tr>\n",
       "    <tr>\n",
       "      <th>3</th>\n",
       "      <td>0</td>\n",
       "      <td>0</td>\n",
       "      <td>1</td>\n",
       "      <td>0</td>\n",
       "      <td>1</td>\n",
       "      <td>0</td>\n",
       "      <td>0</td>\n",
       "      <td>0</td>\n",
       "      <td>1</td>\n",
       "      <td>0</td>\n",
       "      <td>0</td>\n",
       "    </tr>\n",
       "    <tr>\n",
       "      <th>4</th>\n",
       "      <td>0</td>\n",
       "      <td>0</td>\n",
       "      <td>0</td>\n",
       "      <td>0</td>\n",
       "      <td>0</td>\n",
       "      <td>1</td>\n",
       "      <td>0</td>\n",
       "      <td>0</td>\n",
       "      <td>0</td>\n",
       "      <td>1</td>\n",
       "      <td>0</td>\n",
       "    </tr>\n",
       "  </tbody>\n",
       "</table>\n",
       "</div>"
      ],
      "text/plain": [
       "   GENDER_M  GENDER_other  HOMEOWNR_U  HOMEOWNR_other  DOMAIN_letters_R  \\\n",
       "0         0             0           0               1                 0   \n",
       "1         1             0           0               0                 0   \n",
       "2         1             0           1               0                 1   \n",
       "3         0             0           1               0                 1   \n",
       "4         0             0           0               0                 0   \n",
       "\n",
       "   DOMAIN_letters_S  DOMAIN_letters_T  DOMAIN_letters_U  RFA_monetary_E  \\\n",
       "0                 0                 1                 0               1   \n",
       "1                 1                 0                 0               0   \n",
       "2                 0                 0                 0               1   \n",
       "3                 0                 0                 0               1   \n",
       "4                 1                 0                 0               0   \n",
       "\n",
       "   RFA_monetary_F  RFA_monetary_G  \n",
       "0               0               0  \n",
       "1               0               1  \n",
       "2               0               0  \n",
       "3               0               0  \n",
       "4               1               0  "
      ]
     },
     "execution_count": 16,
     "metadata": {},
     "output_type": "execute_result"
    }
   ],
   "source": [
    "cat_encoded = pd.get_dummies(categoricals, drop_first=True)\n",
    "cat_encoded.head()\n",
    "\n",
    "## Alternative way to do it with OHE: However, you will have to load the corresponding libraries of sklearn.\n",
    "#encoder = OneHotEncoder(handle_unknown='error', drop='first').fit(categoricals)\n",
    "#encoded = encoder.transform(categoricals).toarray()"
   ]
  },
  {
   "cell_type": "markdown",
   "metadata": {
    "id": "LgMCuhjQeBce"
   },
   "source": [
    "## Putting everything together"
   ]
  },
  {
   "cell_type": "code",
   "execution_count": 17,
   "metadata": {
    "colab": {
     "base_uri": "https://localhost:8080/",
     "height": 455
    },
    "executionInfo": {
     "elapsed": 753,
     "status": "ok",
     "timestamp": 1603876112119,
     "user": {
      "displayName": "Ignacio Soteras",
      "photoUrl": "",
      "userId": "02050793736257155229"
     },
     "user_tz": -60
    },
    "id": "tg7KTwMIeE34",
    "outputId": "fb10eae2-2d8d-4080-cc42-bf77c52f965c"
   },
   "outputs": [
    {
     "name": "stdout",
     "output_type": "stream",
     "text": [
      "The dataset size is:  (88393, 20)\n",
      "\n"
     ]
    },
    {
     "data": {
      "text/html": [
       "<div>\n",
       "<style scoped>\n",
       "    .dataframe tbody tr th:only-of-type {\n",
       "        vertical-align: middle;\n",
       "    }\n",
       "\n",
       "    .dataframe tbody tr th {\n",
       "        vertical-align: top;\n",
       "    }\n",
       "\n",
       "    .dataframe thead th {\n",
       "        text-align: right;\n",
       "    }\n",
       "</style>\n",
       "<table border=\"1\" class=\"dataframe\">\n",
       "  <thead>\n",
       "    <tr style=\"text-align: right;\">\n",
       "      <th></th>\n",
       "      <th>HV1</th>\n",
       "      <th>IC1</th>\n",
       "      <th>IC5</th>\n",
       "      <th>CARDPROM</th>\n",
       "      <th>NUMPRM12</th>\n",
       "      <th>NGIFTALL</th>\n",
       "      <th>TIMELAG</th>\n",
       "      <th>year</th>\n",
       "      <th>GENDER_M</th>\n",
       "      <th>GENDER_other</th>\n",
       "      <th>HOMEOWNR_U</th>\n",
       "      <th>HOMEOWNR_other</th>\n",
       "      <th>DOMAIN_letters_R</th>\n",
       "      <th>DOMAIN_letters_S</th>\n",
       "      <th>DOMAIN_letters_T</th>\n",
       "      <th>DOMAIN_letters_U</th>\n",
       "      <th>RFA_monetary_E</th>\n",
       "      <th>RFA_monetary_F</th>\n",
       "      <th>RFA_monetary_G</th>\n",
       "      <th>AVGGIFT</th>\n",
       "    </tr>\n",
       "  </thead>\n",
       "  <tbody>\n",
       "    <tr>\n",
       "      <th>0</th>\n",
       "      <td>-0.615805</td>\n",
       "      <td>-0.197546</td>\n",
       "      <td>-0.327329</td>\n",
       "      <td>1.015038</td>\n",
       "      <td>0.287697</td>\n",
       "      <td>2.563947</td>\n",
       "      <td>-5.221388e-01</td>\n",
       "      <td>-4.223845e-02</td>\n",
       "      <td>0</td>\n",
       "      <td>0</td>\n",
       "      <td>0</td>\n",
       "      <td>1</td>\n",
       "      <td>0</td>\n",
       "      <td>0</td>\n",
       "      <td>1</td>\n",
       "      <td>0</td>\n",
       "      <td>1</td>\n",
       "      <td>0</td>\n",
       "      <td>0</td>\n",
       "      <td>7.741935</td>\n",
       "    </tr>\n",
       "    <tr>\n",
       "      <th>1</th>\n",
       "      <td>4.724826</td>\n",
       "      <td>4.624687</td>\n",
       "      <td>2.413425</td>\n",
       "      <td>-0.736841</td>\n",
       "      <td>0.057410</td>\n",
       "      <td>-0.762852</td>\n",
       "      <td>1.253030e+00</td>\n",
       "      <td>1.067743e+00</td>\n",
       "      <td>1</td>\n",
       "      <td>0</td>\n",
       "      <td>0</td>\n",
       "      <td>0</td>\n",
       "      <td>0</td>\n",
       "      <td>1</td>\n",
       "      <td>0</td>\n",
       "      <td>0</td>\n",
       "      <td>0</td>\n",
       "      <td>0</td>\n",
       "      <td>1</td>\n",
       "      <td>15.666667</td>\n",
       "    </tr>\n",
       "    <tr>\n",
       "      <th>2</th>\n",
       "      <td>-0.596536</td>\n",
       "      <td>-0.543314</td>\n",
       "      <td>-0.481123</td>\n",
       "      <td>0.898246</td>\n",
       "      <td>0.287697</td>\n",
       "      <td>2.088690</td>\n",
       "      <td>4.922435e-01</td>\n",
       "      <td>-1.674335e-11</td>\n",
       "      <td>1</td>\n",
       "      <td>0</td>\n",
       "      <td>1</td>\n",
       "      <td>0</td>\n",
       "      <td>1</td>\n",
       "      <td>0</td>\n",
       "      <td>0</td>\n",
       "      <td>0</td>\n",
       "      <td>1</td>\n",
       "      <td>0</td>\n",
       "      <td>0</td>\n",
       "      <td>7.481481</td>\n",
       "    </tr>\n",
       "    <tr>\n",
       "      <th>3</th>\n",
       "      <td>-0.058084</td>\n",
       "      <td>0.290234</td>\n",
       "      <td>-0.062926</td>\n",
       "      <td>1.015038</td>\n",
       "      <td>0.287697</td>\n",
       "      <td>0.781733</td>\n",
       "      <td>1.118501e-01</td>\n",
       "      <td>-7.082272e-01</td>\n",
       "      <td>0</td>\n",
       "      <td>0</td>\n",
       "      <td>1</td>\n",
       "      <td>0</td>\n",
       "      <td>1</td>\n",
       "      <td>0</td>\n",
       "      <td>0</td>\n",
       "      <td>0</td>\n",
       "      <td>1</td>\n",
       "      <td>0</td>\n",
       "      <td>0</td>\n",
       "      <td>6.812500</td>\n",
       "    </tr>\n",
       "    <tr>\n",
       "      <th>4</th>\n",
       "      <td>-0.511968</td>\n",
       "      <td>-0.611233</td>\n",
       "      <td>-0.685867</td>\n",
       "      <td>2.883710</td>\n",
       "      <td>2.820857</td>\n",
       "      <td>3.276833</td>\n",
       "      <td>7.458391e-01</td>\n",
       "      <td>-1.300217e+00</td>\n",
       "      <td>0</td>\n",
       "      <td>0</td>\n",
       "      <td>0</td>\n",
       "      <td>0</td>\n",
       "      <td>0</td>\n",
       "      <td>1</td>\n",
       "      <td>0</td>\n",
       "      <td>0</td>\n",
       "      <td>0</td>\n",
       "      <td>1</td>\n",
       "      <td>0</td>\n",
       "      <td>6.864865</td>\n",
       "    </tr>\n",
       "    <tr>\n",
       "      <th>...</th>\n",
       "      <td>...</td>\n",
       "      <td>...</td>\n",
       "      <td>...</td>\n",
       "      <td>...</td>\n",
       "      <td>...</td>\n",
       "      <td>...</td>\n",
       "      <td>...</td>\n",
       "      <td>...</td>\n",
       "      <td>...</td>\n",
       "      <td>...</td>\n",
       "      <td>...</td>\n",
       "      <td>...</td>\n",
       "      <td>...</td>\n",
       "      <td>...</td>\n",
       "      <td>...</td>\n",
       "      <td>...</td>\n",
       "      <td>...</td>\n",
       "      <td>...</td>\n",
       "      <td>...</td>\n",
       "      <td>...</td>\n",
       "    </tr>\n",
       "    <tr>\n",
       "      <th>88388</th>\n",
       "      <td>-0.343903</td>\n",
       "      <td>-0.333384</td>\n",
       "      <td>-0.503009</td>\n",
       "      <td>0.547870</td>\n",
       "      <td>-0.172878</td>\n",
       "      <td>1.732247</td>\n",
       "      <td>-6.489366e-01</td>\n",
       "      <td>7.717479e-01</td>\n",
       "      <td>0</td>\n",
       "      <td>0</td>\n",
       "      <td>0</td>\n",
       "      <td>0</td>\n",
       "      <td>0</td>\n",
       "      <td>1</td>\n",
       "      <td>0</td>\n",
       "      <td>0</td>\n",
       "      <td>0</td>\n",
       "      <td>0</td>\n",
       "      <td>0</td>\n",
       "      <td>3.375000</td>\n",
       "    </tr>\n",
       "    <tr>\n",
       "      <th>88389</th>\n",
       "      <td>-0.070930</td>\n",
       "      <td>0.580433</td>\n",
       "      <td>0.369744</td>\n",
       "      <td>-1.437593</td>\n",
       "      <td>-0.172878</td>\n",
       "      <td>-1.000480</td>\n",
       "      <td>-1.154796e-12</td>\n",
       "      <td>-1.674335e-11</td>\n",
       "      <td>1</td>\n",
       "      <td>0</td>\n",
       "      <td>0</td>\n",
       "      <td>1</td>\n",
       "      <td>0</td>\n",
       "      <td>0</td>\n",
       "      <td>0</td>\n",
       "      <td>0</td>\n",
       "      <td>0</td>\n",
       "      <td>0</td>\n",
       "      <td>1</td>\n",
       "      <td>25.000000</td>\n",
       "    </tr>\n",
       "    <tr>\n",
       "      <th>88390</th>\n",
       "      <td>0.668773</td>\n",
       "      <td>2.883497</td>\n",
       "      <td>1.279446</td>\n",
       "      <td>-1.671177</td>\n",
       "      <td>-1.094027</td>\n",
       "      <td>-1.000480</td>\n",
       "      <td>-1.154796e-12</td>\n",
       "      <td>9.197454e-01</td>\n",
       "      <td>1</td>\n",
       "      <td>0</td>\n",
       "      <td>0</td>\n",
       "      <td>0</td>\n",
       "      <td>0</td>\n",
       "      <td>0</td>\n",
       "      <td>0</td>\n",
       "      <td>0</td>\n",
       "      <td>0</td>\n",
       "      <td>1</td>\n",
       "      <td>0</td>\n",
       "      <td>20.000000</td>\n",
       "    </tr>\n",
       "    <tr>\n",
       "      <th>88391</th>\n",
       "      <td>-0.726064</td>\n",
       "      <td>-0.469221</td>\n",
       "      <td>-0.410286</td>\n",
       "      <td>-0.503257</td>\n",
       "      <td>0.978559</td>\n",
       "      <td>-0.287595</td>\n",
       "      <td>-6.489366e-01</td>\n",
       "      <td>3.176030e-02</td>\n",
       "      <td>1</td>\n",
       "      <td>0</td>\n",
       "      <td>0</td>\n",
       "      <td>1</td>\n",
       "      <td>0</td>\n",
       "      <td>0</td>\n",
       "      <td>0</td>\n",
       "      <td>0</td>\n",
       "      <td>1</td>\n",
       "      <td>0</td>\n",
       "      <td>0</td>\n",
       "      <td>8.285714</td>\n",
       "    </tr>\n",
       "    <tr>\n",
       "      <th>88392</th>\n",
       "      <td>-0.124454</td>\n",
       "      <td>0.691573</td>\n",
       "      <td>0.121697</td>\n",
       "      <td>1.598998</td>\n",
       "      <td>5.123730</td>\n",
       "      <td>3.514461</td>\n",
       "      <td>-2.685432e-01</td>\n",
       "      <td>-1.448215e+00</td>\n",
       "      <td>0</td>\n",
       "      <td>0</td>\n",
       "      <td>1</td>\n",
       "      <td>0</td>\n",
       "      <td>0</td>\n",
       "      <td>0</td>\n",
       "      <td>0</td>\n",
       "      <td>0</td>\n",
       "      <td>0</td>\n",
       "      <td>0</td>\n",
       "      <td>1</td>\n",
       "      <td>96.794872</td>\n",
       "    </tr>\n",
       "  </tbody>\n",
       "</table>\n",
       "<p>88393 rows × 20 columns</p>\n",
       "</div>"
      ],
      "text/plain": [
       "            HV1       IC1       IC5  CARDPROM  NUMPRM12  NGIFTALL  \\\n",
       "0     -0.615805 -0.197546 -0.327329  1.015038  0.287697  2.563947   \n",
       "1      4.724826  4.624687  2.413425 -0.736841  0.057410 -0.762852   \n",
       "2     -0.596536 -0.543314 -0.481123  0.898246  0.287697  2.088690   \n",
       "3     -0.058084  0.290234 -0.062926  1.015038  0.287697  0.781733   \n",
       "4     -0.511968 -0.611233 -0.685867  2.883710  2.820857  3.276833   \n",
       "...         ...       ...       ...       ...       ...       ...   \n",
       "88388 -0.343903 -0.333384 -0.503009  0.547870 -0.172878  1.732247   \n",
       "88389 -0.070930  0.580433  0.369744 -1.437593 -0.172878 -1.000480   \n",
       "88390  0.668773  2.883497  1.279446 -1.671177 -1.094027 -1.000480   \n",
       "88391 -0.726064 -0.469221 -0.410286 -0.503257  0.978559 -0.287595   \n",
       "88392 -0.124454  0.691573  0.121697  1.598998  5.123730  3.514461   \n",
       "\n",
       "            TIMELAG          year  GENDER_M  GENDER_other  HOMEOWNR_U  \\\n",
       "0     -5.221388e-01 -4.223845e-02         0             0           0   \n",
       "1      1.253030e+00  1.067743e+00         1             0           0   \n",
       "2      4.922435e-01 -1.674335e-11         1             0           1   \n",
       "3      1.118501e-01 -7.082272e-01         0             0           1   \n",
       "4      7.458391e-01 -1.300217e+00         0             0           0   \n",
       "...             ...           ...       ...           ...         ...   \n",
       "88388 -6.489366e-01  7.717479e-01         0             0           0   \n",
       "88389 -1.154796e-12 -1.674335e-11         1             0           0   \n",
       "88390 -1.154796e-12  9.197454e-01         1             0           0   \n",
       "88391 -6.489366e-01  3.176030e-02         1             0           0   \n",
       "88392 -2.685432e-01 -1.448215e+00         0             0           1   \n",
       "\n",
       "       HOMEOWNR_other  DOMAIN_letters_R  DOMAIN_letters_S  DOMAIN_letters_T  \\\n",
       "0                   1                 0                 0                 1   \n",
       "1                   0                 0                 1                 0   \n",
       "2                   0                 1                 0                 0   \n",
       "3                   0                 1                 0                 0   \n",
       "4                   0                 0                 1                 0   \n",
       "...               ...               ...               ...               ...   \n",
       "88388               0                 0                 1                 0   \n",
       "88389               1                 0                 0                 0   \n",
       "88390               0                 0                 0                 0   \n",
       "88391               1                 0                 0                 0   \n",
       "88392               0                 0                 0                 0   \n",
       "\n",
       "       DOMAIN_letters_U  RFA_monetary_E  RFA_monetary_F  RFA_monetary_G  \\\n",
       "0                     0               1               0               0   \n",
       "1                     0               0               0               1   \n",
       "2                     0               1               0               0   \n",
       "3                     0               1               0               0   \n",
       "4                     0               0               1               0   \n",
       "...                 ...             ...             ...             ...   \n",
       "88388                 0               0               0               0   \n",
       "88389                 0               0               0               1   \n",
       "88390                 0               0               1               0   \n",
       "88391                 0               1               0               0   \n",
       "88392                 0               0               0               1   \n",
       "\n",
       "         AVGGIFT  \n",
       "0       7.741935  \n",
       "1      15.666667  \n",
       "2       7.481481  \n",
       "3       6.812500  \n",
       "4       6.864865  \n",
       "...          ...  \n",
       "88388   3.375000  \n",
       "88389  25.000000  \n",
       "88390  20.000000  \n",
       "88391   8.285714  \n",
       "88392  96.794872  \n",
       "\n",
       "[88393 rows x 20 columns]"
      ]
     },
     "execution_count": 17,
     "metadata": {},
     "output_type": "execute_result"
    }
   ],
   "source": [
    "full = pd.concat([pdscaled_numericals.iloc[:,:-1],cat_encoded,numericals.iloc[:,-1]],axis=1)\n",
    "print(\"The dataset size is: \", full.shape)\n",
    "print()\n",
    "full"
   ]
  },
  {
   "cell_type": "code",
   "execution_count": 18,
   "metadata": {
    "colab": {
     "base_uri": "https://localhost:8080/",
     "height": 370
    },
    "executionInfo": {
     "elapsed": 1111,
     "status": "ok",
     "timestamp": 1603876264159,
     "user": {
      "displayName": "Ignacio Soteras",
      "photoUrl": "",
      "userId": "02050793736257155229"
     },
     "user_tz": -60
    },
    "id": "MPMo4UuUmN_Z",
    "outputId": "71c7032d-0346-4a63-aa4d-97361ee4b917"
   },
   "outputs": [
    {
     "data": {
      "text/plain": [
       "['HV1',\n",
       " 'IC1',\n",
       " 'IC5',\n",
       " 'CARDPROM',\n",
       " 'NUMPRM12',\n",
       " 'NGIFTALL',\n",
       " 'TIMELAG',\n",
       " 'year',\n",
       " 'GENDER_M',\n",
       " 'GENDER_other',\n",
       " 'HOMEOWNR_U',\n",
       " 'HOMEOWNR_other',\n",
       " 'DOMAIN_letters_R',\n",
       " 'DOMAIN_letters_S',\n",
       " 'DOMAIN_letters_T',\n",
       " 'DOMAIN_letters_U',\n",
       " 'RFA_monetary_E',\n",
       " 'RFA_monetary_F',\n",
       " 'RFA_monetary_G',\n",
       " 'AVGGIFT']"
      ]
     },
     "execution_count": 18,
     "metadata": {},
     "output_type": "execute_result"
    }
   ],
   "source": [
    "full.columns.tolist()"
   ]
  },
  {
   "cell_type": "code",
   "execution_count": 19,
   "metadata": {
    "id": "HDeT3XhKnaDS"
   },
   "outputs": [
    {
     "data": {
      "text/html": [
       "<div>\n",
       "<style scoped>\n",
       "    .dataframe tbody tr th:only-of-type {\n",
       "        vertical-align: middle;\n",
       "    }\n",
       "\n",
       "    .dataframe tbody tr th {\n",
       "        vertical-align: top;\n",
       "    }\n",
       "\n",
       "    .dataframe thead th {\n",
       "        text-align: right;\n",
       "    }\n",
       "</style>\n",
       "<table border=\"1\" class=\"dataframe\">\n",
       "  <thead>\n",
       "    <tr style=\"text-align: right;\">\n",
       "      <th></th>\n",
       "      <th>HV1</th>\n",
       "      <th>IC1</th>\n",
       "      <th>IC5</th>\n",
       "      <th>CARDPROM</th>\n",
       "      <th>NUMPRM12</th>\n",
       "      <th>NGIFTALL</th>\n",
       "      <th>TIMELAG</th>\n",
       "      <th>year</th>\n",
       "      <th>GENDER_M</th>\n",
       "      <th>GENDER_other</th>\n",
       "      <th>HOMEOWNR_U</th>\n",
       "      <th>HOMEOWNR_other</th>\n",
       "      <th>DOMAIN_letters_R</th>\n",
       "      <th>DOMAIN_letters_S</th>\n",
       "      <th>DOMAIN_letters_T</th>\n",
       "      <th>DOMAIN_letters_U</th>\n",
       "      <th>RFA_monetary_E</th>\n",
       "      <th>RFA_monetary_F</th>\n",
       "      <th>RFA_monetary_G</th>\n",
       "    </tr>\n",
       "  </thead>\n",
       "  <tbody>\n",
       "    <tr>\n",
       "      <th>0</th>\n",
       "      <td>-0.615805</td>\n",
       "      <td>-0.197546</td>\n",
       "      <td>-0.327329</td>\n",
       "      <td>1.015038</td>\n",
       "      <td>0.287697</td>\n",
       "      <td>2.563947</td>\n",
       "      <td>-0.522139</td>\n",
       "      <td>-4.223845e-02</td>\n",
       "      <td>0</td>\n",
       "      <td>0</td>\n",
       "      <td>0</td>\n",
       "      <td>1</td>\n",
       "      <td>0</td>\n",
       "      <td>0</td>\n",
       "      <td>1</td>\n",
       "      <td>0</td>\n",
       "      <td>1</td>\n",
       "      <td>0</td>\n",
       "      <td>0</td>\n",
       "    </tr>\n",
       "    <tr>\n",
       "      <th>1</th>\n",
       "      <td>4.724826</td>\n",
       "      <td>4.624687</td>\n",
       "      <td>2.413425</td>\n",
       "      <td>-0.736841</td>\n",
       "      <td>0.057410</td>\n",
       "      <td>-0.762852</td>\n",
       "      <td>1.253030</td>\n",
       "      <td>1.067743e+00</td>\n",
       "      <td>1</td>\n",
       "      <td>0</td>\n",
       "      <td>0</td>\n",
       "      <td>0</td>\n",
       "      <td>0</td>\n",
       "      <td>1</td>\n",
       "      <td>0</td>\n",
       "      <td>0</td>\n",
       "      <td>0</td>\n",
       "      <td>0</td>\n",
       "      <td>1</td>\n",
       "    </tr>\n",
       "    <tr>\n",
       "      <th>2</th>\n",
       "      <td>-0.596536</td>\n",
       "      <td>-0.543314</td>\n",
       "      <td>-0.481123</td>\n",
       "      <td>0.898246</td>\n",
       "      <td>0.287697</td>\n",
       "      <td>2.088690</td>\n",
       "      <td>0.492244</td>\n",
       "      <td>-1.674335e-11</td>\n",
       "      <td>1</td>\n",
       "      <td>0</td>\n",
       "      <td>1</td>\n",
       "      <td>0</td>\n",
       "      <td>1</td>\n",
       "      <td>0</td>\n",
       "      <td>0</td>\n",
       "      <td>0</td>\n",
       "      <td>1</td>\n",
       "      <td>0</td>\n",
       "      <td>0</td>\n",
       "    </tr>\n",
       "    <tr>\n",
       "      <th>3</th>\n",
       "      <td>-0.058084</td>\n",
       "      <td>0.290234</td>\n",
       "      <td>-0.062926</td>\n",
       "      <td>1.015038</td>\n",
       "      <td>0.287697</td>\n",
       "      <td>0.781733</td>\n",
       "      <td>0.111850</td>\n",
       "      <td>-7.082272e-01</td>\n",
       "      <td>0</td>\n",
       "      <td>0</td>\n",
       "      <td>1</td>\n",
       "      <td>0</td>\n",
       "      <td>1</td>\n",
       "      <td>0</td>\n",
       "      <td>0</td>\n",
       "      <td>0</td>\n",
       "      <td>1</td>\n",
       "      <td>0</td>\n",
       "      <td>0</td>\n",
       "    </tr>\n",
       "    <tr>\n",
       "      <th>4</th>\n",
       "      <td>-0.511968</td>\n",
       "      <td>-0.611233</td>\n",
       "      <td>-0.685867</td>\n",
       "      <td>2.883710</td>\n",
       "      <td>2.820857</td>\n",
       "      <td>3.276833</td>\n",
       "      <td>0.745839</td>\n",
       "      <td>-1.300217e+00</td>\n",
       "      <td>0</td>\n",
       "      <td>0</td>\n",
       "      <td>0</td>\n",
       "      <td>0</td>\n",
       "      <td>0</td>\n",
       "      <td>1</td>\n",
       "      <td>0</td>\n",
       "      <td>0</td>\n",
       "      <td>0</td>\n",
       "      <td>1</td>\n",
       "      <td>0</td>\n",
       "    </tr>\n",
       "  </tbody>\n",
       "</table>\n",
       "</div>"
      ],
      "text/plain": [
       "        HV1       IC1       IC5  CARDPROM  NUMPRM12  NGIFTALL   TIMELAG  \\\n",
       "0 -0.615805 -0.197546 -0.327329  1.015038  0.287697  2.563947 -0.522139   \n",
       "1  4.724826  4.624687  2.413425 -0.736841  0.057410 -0.762852  1.253030   \n",
       "2 -0.596536 -0.543314 -0.481123  0.898246  0.287697  2.088690  0.492244   \n",
       "3 -0.058084  0.290234 -0.062926  1.015038  0.287697  0.781733  0.111850   \n",
       "4 -0.511968 -0.611233 -0.685867  2.883710  2.820857  3.276833  0.745839   \n",
       "\n",
       "           year  GENDER_M  GENDER_other  HOMEOWNR_U  HOMEOWNR_other  \\\n",
       "0 -4.223845e-02         0             0           0               1   \n",
       "1  1.067743e+00         1             0           0               0   \n",
       "2 -1.674335e-11         1             0           1               0   \n",
       "3 -7.082272e-01         0             0           1               0   \n",
       "4 -1.300217e+00         0             0           0               0   \n",
       "\n",
       "   DOMAIN_letters_R  DOMAIN_letters_S  DOMAIN_letters_T  DOMAIN_letters_U  \\\n",
       "0                 0                 0                 1                 0   \n",
       "1                 0                 1                 0                 0   \n",
       "2                 1                 0                 0                 0   \n",
       "3                 1                 0                 0                 0   \n",
       "4                 0                 1                 0                 0   \n",
       "\n",
       "   RFA_monetary_E  RFA_monetary_F  RFA_monetary_G  \n",
       "0               1               0               0  \n",
       "1               0               0               1  \n",
       "2               1               0               0  \n",
       "3               1               0               0  \n",
       "4               0               1               0  "
      ]
     },
     "execution_count": 19,
     "metadata": {},
     "output_type": "execute_result"
    }
   ],
   "source": [
    "full_x = pd.DataFrame(full,columns=full.columns.tolist()[:-1])\n",
    "full_x.head()"
   ]
  },
  {
   "cell_type": "code",
   "execution_count": 20,
   "metadata": {},
   "outputs": [],
   "source": [
    "#define X and y. \n",
    "#X is all the features, scaled numericals and encoded categoricals which are our independent variables\n",
    "#y is the variable we seek to predict \n",
    "\n",
    "X = full_x\n",
    "y = full['AVGGIFT']\n",
    "\n",
    "# note - could do this earlier, before scaling \n",
    "#y does not have to be scaled "
   ]
  },
  {
   "cell_type": "markdown",
   "metadata": {
    "id": "_0OJeDCEehAq"
   },
   "source": [
    "## Splitting data intro train and test sets."
   ]
  },
  {
   "cell_type": "code",
   "execution_count": 21,
   "metadata": {
    "id": "JYFFV9Yzekbt"
   },
   "outputs": [],
   "source": [
    "from sklearn.model_selection import train_test_split\n",
    "\n",
    "X_train, X_test, y_train, y_test = train_test_split(X, y, test_size=0.3, random_state=40)"
   ]
  },
  {
   "cell_type": "markdown",
   "metadata": {
    "id": "X_vH-gMcn2fg"
   },
   "source": [
    "## Training the K-NN model"
   ]
  },
  {
   "cell_type": "code",
   "execution_count": 22,
   "metadata": {
    "colab": {
     "base_uri": "https://localhost:8080/",
     "height": 67
    },
    "executionInfo": {
     "elapsed": 1179,
     "status": "ok",
     "timestamp": 1603876804688,
     "user": {
      "displayName": "Ignacio Soteras",
      "photoUrl": "",
      "userId": "02050793736257155229"
     },
     "user_tz": -60
    },
    "id": "adAKcQjen7p-",
    "outputId": "6a5915a9-b76e-49b6-b8ac-8bd838f8a4a3"
   },
   "outputs": [
    {
     "data": {
      "text/plain": [
       "KNeighborsRegressor(n_neighbors=4)"
      ]
     },
     "execution_count": 22,
     "metadata": {},
     "output_type": "execute_result"
    }
   ],
   "source": [
    "from sklearn.neighbors import KNeighborsRegressor\n",
    "\n",
    "knn_model = KNeighborsRegressor(n_neighbors=4) # The keyword \"n_neighbors\" is what sets the K.\n",
    "knn_model.fit(X_train, y_train)"
   ]
  },
  {
   "cell_type": "markdown",
   "metadata": {
    "id": "NIRgvVFyoldM"
   },
   "source": [
    "## Getting our predictions"
   ]
  },
  {
   "cell_type": "code",
   "execution_count": 23,
   "metadata": {
    "id": "fkCS99R2ooqu"
   },
   "outputs": [],
   "source": [
    "knn_predictions = knn_model.predict(X_test)\n",
    "# to get some predictions for y we use the X_test set. \n",
    "# we will later compare the predictions from X_test to real y_test "
   ]
  },
  {
   "cell_type": "markdown",
   "metadata": {
    "id": "KldInhQ0o4Pb"
   },
   "source": [
    "## Getting the error metrics of our K-NN model"
   ]
  },
  {
   "cell_type": "code",
   "execution_count": 24,
   "metadata": {
    "colab": {
     "base_uri": "https://localhost:8080/",
     "height": 84
    },
    "executionInfo": {
     "elapsed": 764,
     "status": "ok",
     "timestamp": 1603877137877,
     "user": {
      "displayName": "Ignacio Soteras",
      "photoUrl": "",
      "userId": "02050793736257155229"
     },
     "user_tz": -60
    },
    "id": "Sowcrl3oo9zU",
    "outputId": "30f38e9c-375f-4fd0-fa90-52d3b1b6894f",
    "scrolled": true
   },
   "outputs": [
    {
     "name": "stdout",
     "output_type": "stream",
     "text": [
      "The mean absolute error of the model in the test set is:   3.47\n",
      "The mean squared error of the model in the test set is:  85.43\n",
      "The root mean squared error of the model in the test set is:   9.24\n",
      "The R2 of the model in the test set is: 0.26\n"
     ]
    }
   ],
   "source": [
    "from sklearn.metrics import mean_absolute_error, mean_squared_error, r2_score\n",
    "\n",
    "MAE = mean_absolute_error(y_test,knn_predictions)\n",
    "MSE = mean_squared_error(y_test,knn_predictions)\n",
    "RMSE = np.sqrt(MSE)\n",
    "R2 = r2_score(y_test,knn_predictions)\n",
    "\n",
    "print(\"The mean absolute error of the model in the test set is: %6.2f\" % (MAE))\n",
    "print(\"The mean squared error of the model in the test set is: %6.2f\" % (MSE))\n",
    "print(\"The root mean squared error of the model in the test set is: %6.2f\" % (RMSE))\n",
    "print(\"The R2 of the model in the test set is: %4.2f\" % (R2))"
   ]
  },
  {
   "cell_type": "markdown",
   "metadata": {
    "id": "ynNkim4Xsm_v"
   },
   "source": [
    "Train a linear model and compare the performance of both models in the test set.\n"
   ]
  },
  {
   "cell_type": "code",
   "execution_count": 25,
   "metadata": {
    "id": "Z1p0NYWDsujk"
   },
   "outputs": [],
   "source": [
    "\n",
    "from sklearn import linear_model\n",
    "\n",
    "lm = linear_model.LinearRegression()\n",
    "lm_model = lm.fit(X_train,y_train)"
   ]
  },
  {
   "cell_type": "code",
   "execution_count": 26,
   "metadata": {
    "id": "ONicRf-fs4gY"
   },
   "outputs": [],
   "source": [
    "\n",
    "lm_predictions = lm_model.predict(X_test)\n"
   ]
  },
  {
   "cell_type": "code",
   "execution_count": 27,
   "metadata": {
    "colab": {
     "base_uri": "https://localhost:8080/",
     "height": 84
    },
    "executionInfo": {
     "elapsed": 623,
     "status": "ok",
     "timestamp": 1603830248208,
     "user": {
      "displayName": "Ignacio Soteras",
      "photoUrl": "",
      "userId": "02050793736257155229"
     },
     "user_tz": -60
    },
    "id": "xVcF6EPCubeU",
    "outputId": "fe683676-7e34-498d-e348-6f08db7e1117"
   },
   "outputs": [
    {
     "name": "stdout",
     "output_type": "stream",
     "text": [
      "The mean absolute error of the model in the test set is:   3.34\n",
      "The mean squared error of the model in the test set is:  82.31\n",
      "The root mean squared error of the model in the test set is:   9.07\n",
      "The R2 of the model in the test set is: 0.28\n"
     ]
    }
   ],
   "source": [
    "from sklearn.metrics import mean_absolute_error, mean_squared_error, r2_score\n",
    "\n",
    "MAE = mean_absolute_error(y_test,lm_predictions)\n",
    "MSE = mean_squared_error(y_test,lm_predictions)\n",
    "RMSE = np.sqrt(MSE)\n",
    "R2 = r2_score(y_test,lm_predictions)\n",
    "\n",
    "print(\"The mean absolute error of the model in the test set is: %6.2f\" % (MAE))\n",
    "print(\"The mean squared error of the model in the test set is: %6.2f\" % (MSE))\n",
    "print(\"The root mean squared error of the model in the test set is: %6.2f\" % (RMSE))\n",
    "print(\"The R2 of the model in the test set is: %4.2f\" % (R2))\n"
   ]
  },
  {
   "cell_type": "markdown",
   "metadata": {
    "id": "ORt--5HK8xy3"
   },
   "source": [
    "If you think a little bit about it, the number of neighbors might be very important for our results, but will it be the only parameter that matters? Go to the documentation and check the parameters and the values they can take, pick the one you think is more relevant and change its value in the model. \n",
    "\n",
    "Hint: If K (number of neighbors) is the most important one, maybe we could measure the way these K instances affect our prediction"
   ]
  },
  {
   "cell_type": "code",
   "execution_count": null,
   "metadata": {
    "colab": {
     "base_uri": "https://localhost:8080/",
     "height": 34
    },
    "executionInfo": {
     "elapsed": 39984,
     "status": "ok",
     "timestamp": 1603834054510,
     "user": {
      "displayName": "Ignacio Soteras",
      "photoUrl": "",
      "userId": "02050793736257155229"
     },
     "user_tz": -60
    },
    "id": "DUeiGqd-87AQ",
    "outputId": "169385f7-c310-4ed8-eb81-8e532d9dc834"
   },
   "outputs": [],
   "source": [
    "uniform_model = KNeighborsRegressor(n_neighbors=9)\n",
    "uniform_model.fit(X_train, y_train)\n",
    "uniform_model.score(X_test, y_test)"
   ]
  },
  {
   "cell_type": "code",
   "execution_count": null,
   "metadata": {
    "colab": {
     "base_uri": "https://localhost:8080/",
     "height": 34
    },
    "executionInfo": {
     "elapsed": 47478,
     "status": "ok",
     "timestamp": 1603834226382,
     "user": {
      "displayName": "Ignacio Soteras",
      "photoUrl": "",
      "userId": "02050793736257155229"
     },
     "user_tz": -60
    },
    "id": "wbtIM_kg9F_4",
    "outputId": "696dfac6-061c-4683-fd58-7ff1c4fc249d"
   },
   "outputs": [],
   "source": [
    "# example using parameter distance \n",
    "distance_model = KNeighborsRegressor(n_neighbors=9, weights = \"distance\")\n",
    "distance_model.fit(X_train, y_train)\n",
    "distance_model.score(X_test, y_test)"
   ]
  },
  {
   "cell_type": "markdown",
   "metadata": {
    "id": "si6-xxrM-yF9"
   },
   "source": [
    "# visualise KNN\n",
    "\n",
    "Let's visualize how KNN actually works. First of all install the mlxtend library and create a dataframe containing the two most relevant numerical variables and the target, in that order. Once you have done it sample it with n = 100, introduce that sample into this function with an arbitrary k:"
   ]
  },
  {
   "cell_type": "code",
   "execution_count": null,
   "metadata": {},
   "outputs": [],
   "source": [
    "#to do this aou will need to close and halt your notebook & install mlxtend library\n",
    "\n",
    "#I had to first install pip (conda install pip) \n",
    "# then run pip install mlxtend"
   ]
  },
  {
   "cell_type": "code",
   "execution_count": 28,
   "metadata": {
    "id": "9tE6_WU4_Btx"
   },
   "outputs": [],
   "source": [
    "from mlxtend.plotting import plot_decision_regions"
   ]
  },
  {
   "cell_type": "code",
   "execution_count": 29,
   "metadata": {
    "id": "LSRC2iz5_IKx"
   },
   "outputs": [],
   "source": [
    "def knn_comparison(data, k):\n",
    "    x = data.iloc[:, 0:2].values\n",
    "    y = data.iloc[:, -1].astype(int).values\n",
    "    knn = KNeighborsRegressor(n_neighbors=k)\n",
    "    knn.fit(x, y)\n",
    "\n",
    "    plt.figure(figsize=(16,12))\n",
    "    plot_decision_regions(x, y, clf=knn)\n",
    "    plt.title(\"Knn with K=\"+ str(k), fontsize = 18)\n",
    "    plt.show()"
   ]
  },
  {
   "cell_type": "code",
   "execution_count": 30,
   "metadata": {
    "colab": {
     "base_uri": "https://localhost:8080/",
     "height": 195
    },
    "executionInfo": {
     "elapsed": 1767,
     "status": "ok",
     "timestamp": 1603835977058,
     "user": {
      "displayName": "Ignacio Soteras",
      "photoUrl": "",
      "userId": "02050793736257155229"
     },
     "user_tz": -60
    },
    "id": "5oVhfFbFDt0z",
    "outputId": "a7e721a0-95b4-48fa-b660-cddfba13b818"
   },
   "outputs": [
    {
     "data": {
      "text/html": [
       "<div>\n",
       "<style scoped>\n",
       "    .dataframe tbody tr th:only-of-type {\n",
       "        vertical-align: middle;\n",
       "    }\n",
       "\n",
       "    .dataframe tbody tr th {\n",
       "        vertical-align: top;\n",
       "    }\n",
       "\n",
       "    .dataframe thead th {\n",
       "        text-align: right;\n",
       "    }\n",
       "</style>\n",
       "<table border=\"1\" class=\"dataframe\">\n",
       "  <thead>\n",
       "    <tr style=\"text-align: right;\">\n",
       "      <th></th>\n",
       "      <th>HV1</th>\n",
       "      <th>IC1</th>\n",
       "      <th>AVGGIFT</th>\n",
       "    </tr>\n",
       "  </thead>\n",
       "  <tbody>\n",
       "    <tr>\n",
       "      <th>25703</th>\n",
       "      <td>-0.812773</td>\n",
       "      <td>-1.142234</td>\n",
       "      <td>16.125000</td>\n",
       "    </tr>\n",
       "    <tr>\n",
       "      <th>14213</th>\n",
       "      <td>-0.393145</td>\n",
       "      <td>0.407549</td>\n",
       "      <td>12.333333</td>\n",
       "    </tr>\n",
       "    <tr>\n",
       "      <th>79506</th>\n",
       "      <td>0.649504</td>\n",
       "      <td>-0.222244</td>\n",
       "      <td>15.000000</td>\n",
       "    </tr>\n",
       "    <tr>\n",
       "      <th>2643</th>\n",
       "      <td>-0.336409</td>\n",
       "      <td>-0.679152</td>\n",
       "      <td>6.166667</td>\n",
       "    </tr>\n",
       "    <tr>\n",
       "      <th>27907</th>\n",
       "      <td>-0.378158</td>\n",
       "      <td>-0.055534</td>\n",
       "      <td>35.000000</td>\n",
       "    </tr>\n",
       "  </tbody>\n",
       "</table>\n",
       "</div>"
      ],
      "text/plain": [
       "            HV1       IC1    AVGGIFT\n",
       "25703 -0.812773 -1.142234  16.125000\n",
       "14213 -0.393145  0.407549  12.333333\n",
       "79506  0.649504 -0.222244  15.000000\n",
       "2643  -0.336409 -0.679152   6.166667\n",
       "27907 -0.378158 -0.055534  35.000000"
      ]
     },
     "execution_count": 30,
     "metadata": {},
     "output_type": "execute_result"
    }
   ],
   "source": [
    "new = pd.concat([X,y],axis=1)\n",
    "new = new[['HV1','IC1','AVGGIFT']].sample(n=100,random_state=100)\n",
    "new.head()"
   ]
  },
  {
   "cell_type": "code",
   "execution_count": 35,
   "metadata": {
    "colab": {
     "base_uri": "https://localhost:8080/",
     "height": 720
    },
    "executionInfo": {
     "elapsed": 3637,
     "status": "ok",
     "timestamp": 1603835982726,
     "user": {
      "displayName": "Ignacio Soteras",
      "photoUrl": "",
      "userId": "02050793736257155229"
     },
     "user_tz": -60
    },
    "id": "L69lIIRD_tHe",
    "outputId": "cb88f97d-099a-4ca3-b39a-ec86d91cf255"
   },
   "outputs": [
    {
     "data": {
      "image/png": "[encoded data removed]",
      "text/plain": [
       "<Figure size 1152x864 with 1 Axes>"
      ]
     },
     "metadata": {
      "needs_background": "light"
     },
     "output_type": "display_data"
    }
   ],
   "source": [
    "# run the plot - be prepared this will look like crazy modern art\n",
    "knn_comparison(new,50)"
   ]
  },
  {
   "cell_type": "markdown",
   "metadata": {
    "id": "X2si8Xkk_WRb"
   },
   "source": [
    "### Activity - take time to look at the chart and reflect on the data\n",
    "What can you see in the plot? Try re running the cell to plot the data with a higher or lower k (1,2,4,9,15,30)\n",
    "\n"
   ]
  },
  {
   "cell_type": "markdown",
   "metadata": {
    "id": "s2SxYSvx_mQD"
   },
   "source": [
    "#### explanation \n",
    "The lower the number of k the more over-fitted it will be. We can see that with k = 1, the boundaries are very clear and as we increase k the plots start turning very messy until the last two plots, where it is oversimplified."
   ]
  },
  {
   "cell_type": "markdown",
   "metadata": {
    "id": "wFk_Ju1FKEnN"
   },
   "source": [
    "# Metrics Review (Linear Regression):\n",
    "\n",
    "From all the regression metrics we have seen, which one(s) do you think you will use in most cases?\n"
   ]
  },
  {
   "cell_type": "markdown",
   "metadata": {
    "id": "Yr4SrxE4KLbT"
   },
   "source": [
    "We have seen R2, MSE, RMSE and MAE. Of course, there is not a magic solution for which you should always use it, but there are some details worth knowing:\n",
    "\n",
    "*  R2 is scaled, which means that it is independent of the data. This one would be the one to go with if we don't know a lot about the data and general information about our model. However, it can be misleading, as it is supposed to be between 0 and 1 but sometimes it is not (you can read about it here. In fact, R2 is a biased estimator (more information here.\n",
    "\n",
    "*  MAE would be the median of the regression metrics as what it measures is the sum of distances between predicted and real values (errors), and that won't give a special treat to really bad predictions, so if that's what we want this metric should do great.\n",
    "\n",
    "*  MSE - It is the mean of the squared distance of the errors, which will weight the bad predictions.\n",
    "\n",
    "*  RMSE - Root MSE, essentially it is the same but it is easier to understand within the data context"
   ]
  },
  {
   "cell_type": "markdown",
   "metadata": {},
   "source": [
    "### Activity \n",
    "\n",
    "Focusing on either the linear or knn model it can be useful to calculate the R2 adjusted- read through the guide below and run the last cell to calculate the metric. Hint: you will need to refer to r2, so first you should set the parameter (hard code it) from one of the earlier model summary cells \n",
    "\n",
    "- eg r_squared = 0.26\n"
   ]
  },
  {
   "cell_type": "markdown",
   "metadata": {},
   "source": [
    "#### R2 and R2-adjusted \n",
    "R2 shows how well terms (data points) fit a curve or line. Adjusted R2 also indicates how well terms fit a curve or line, but adjusts for the number of terms in a model. If you add more and more useless variables to a model, adjusted r-squared will decrease. If you add more useful variables, adjusted r-squared will increase.\n",
    "Adjusted R2 will always be less than or equal to R2.\n",
    "\n",
    "--------\n",
    "\n",
    "#### The adjusted R-squared is calculated as:\n",
    "\n",
    "Adjusted R2 = 1 – [(1-R2)*(n-1)/(n-k-1)]\n",
    "\n",
    "where:\n",
    "\n",
    "- R2: The R2 of the model\n",
    "- n: The number of observations\n",
    "- k: The number of predictor variables\n",
    "\n",
    "--------\n",
    "\n",
    "Both R2 and the adjusted R2 give you an idea of how many data points fall within the line of the regression equation. However, there is one main difference between R2 and the adjusted R2: R2 assumes that every single variable explains the variation in the dependent variable. The adjusted R2 tells you the percentage of variation explained by only the independent variables that actually affect the dependent variable.\n",
    "\n",
    "NOTE : You only need R2 when working with samples. In other words, R2 isn’t necessary when you have data from an entire population."
   ]
  },
  {
   "cell_type": "code",
   "execution_count": null,
   "metadata": {
    "id": "s3e97UWBJyrb"
   },
   "outputs": [],
   "source": [
    "#R2adj can be computed with python as:\n",
    "r_squared=0.26 \n",
    "score_adj = 1 - (1-r_squared)*(len(y_test)-1)/(len(y_test)-X_test.shape[1]-1)"
   ]
  }
 ],
 "metadata": {
  "colab": {
   "authorship_tag": "ABX9TyP5iBJELRXbi1gWIU+E16RM",
   "name": "Unit_4_Day_3_morning.ipynb",
   "provenance": [],
   "toc_visible": true
  },
  "kernelspec": {
   "display_name": "Python 3",
   "language": "python",
   "name": "python3"
  },
  "language_info": {
   "codemirror_mode": {
    "name": "ipython",
    "version": 3
   },
   "file_extension": ".py",
   "mimetype": "text/x-python",
   "name": "python",
   "nbconvert_exporter": "python",
   "pygments_lexer": "ipython3",
   "version": "3.8.5"
  }
 },
 "nbformat": 4,
 "nbformat_minor": 1
}
